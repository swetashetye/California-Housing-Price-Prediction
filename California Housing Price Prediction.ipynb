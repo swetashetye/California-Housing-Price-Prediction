{
 "cells": [
  {
   "cell_type": "code",
   "execution_count": 34,
   "metadata": {},
   "outputs": [],
   "source": [
    "import pandas as pd\n",
    "import numpy as np\n",
    "from sklearn import metrics\n",
    "\n",
    "import matplotlib.pyplot as plt\n",
    "\n",
    "%matplotlib inline"
   ]
  },
  {
   "cell_type": "markdown",
   "metadata": {},
   "source": [
    "1. Load the data :\n",
    "\n",
    "Read the “housing.csv” file from the folder into the program.\n",
    "\n",
    "Print first few rows of this data.\n",
    "\n",
    "Extract input (X) and output (Y) data from the dataset."
   ]
  },
  {
   "cell_type": "code",
   "execution_count": 35,
   "metadata": {},
   "outputs": [],
   "source": [
    "#Read the “housing.csv” file from the folder into the program.\n",
    "dfhousing = pd.read_excel(\"1553768847_housing.xlsx\")"
   ]
  },
  {
   "cell_type": "code",
   "execution_count": 36,
   "metadata": {},
   "outputs": [
    {
     "data": {
      "text/html": [
       "<div>\n",
       "<style scoped>\n",
       "    .dataframe tbody tr th:only-of-type {\n",
       "        vertical-align: middle;\n",
       "    }\n",
       "\n",
       "    .dataframe tbody tr th {\n",
       "        vertical-align: top;\n",
       "    }\n",
       "\n",
       "    .dataframe thead th {\n",
       "        text-align: right;\n",
       "    }\n",
       "</style>\n",
       "<table border=\"1\" class=\"dataframe\">\n",
       "  <thead>\n",
       "    <tr style=\"text-align: right;\">\n",
       "      <th></th>\n",
       "      <th>longitude</th>\n",
       "      <th>latitude</th>\n",
       "      <th>housing_median_age</th>\n",
       "      <th>total_rooms</th>\n",
       "      <th>total_bedrooms</th>\n",
       "      <th>population</th>\n",
       "      <th>households</th>\n",
       "      <th>median_income</th>\n",
       "      <th>ocean_proximity</th>\n",
       "      <th>median_house_value</th>\n",
       "    </tr>\n",
       "  </thead>\n",
       "  <tbody>\n",
       "    <tr>\n",
       "      <th>0</th>\n",
       "      <td>-122.23</td>\n",
       "      <td>37.88</td>\n",
       "      <td>41</td>\n",
       "      <td>880</td>\n",
       "      <td>129.0</td>\n",
       "      <td>322</td>\n",
       "      <td>126</td>\n",
       "      <td>8.3252</td>\n",
       "      <td>NEAR BAY</td>\n",
       "      <td>452600</td>\n",
       "    </tr>\n",
       "    <tr>\n",
       "      <th>1</th>\n",
       "      <td>-122.22</td>\n",
       "      <td>37.86</td>\n",
       "      <td>21</td>\n",
       "      <td>7099</td>\n",
       "      <td>1106.0</td>\n",
       "      <td>2401</td>\n",
       "      <td>1138</td>\n",
       "      <td>8.3014</td>\n",
       "      <td>NEAR BAY</td>\n",
       "      <td>358500</td>\n",
       "    </tr>\n",
       "    <tr>\n",
       "      <th>2</th>\n",
       "      <td>-122.24</td>\n",
       "      <td>37.85</td>\n",
       "      <td>52</td>\n",
       "      <td>1467</td>\n",
       "      <td>190.0</td>\n",
       "      <td>496</td>\n",
       "      <td>177</td>\n",
       "      <td>7.2574</td>\n",
       "      <td>NEAR BAY</td>\n",
       "      <td>352100</td>\n",
       "    </tr>\n",
       "    <tr>\n",
       "      <th>3</th>\n",
       "      <td>-122.25</td>\n",
       "      <td>37.85</td>\n",
       "      <td>52</td>\n",
       "      <td>1274</td>\n",
       "      <td>235.0</td>\n",
       "      <td>558</td>\n",
       "      <td>219</td>\n",
       "      <td>5.6431</td>\n",
       "      <td>NEAR BAY</td>\n",
       "      <td>341300</td>\n",
       "    </tr>\n",
       "    <tr>\n",
       "      <th>4</th>\n",
       "      <td>-122.25</td>\n",
       "      <td>37.85</td>\n",
       "      <td>52</td>\n",
       "      <td>1627</td>\n",
       "      <td>280.0</td>\n",
       "      <td>565</td>\n",
       "      <td>259</td>\n",
       "      <td>3.8462</td>\n",
       "      <td>NEAR BAY</td>\n",
       "      <td>342200</td>\n",
       "    </tr>\n",
       "  </tbody>\n",
       "</table>\n",
       "</div>"
      ],
      "text/plain": [
       "   longitude  latitude  housing_median_age  total_rooms  total_bedrooms  \\\n",
       "0    -122.23     37.88                  41          880           129.0   \n",
       "1    -122.22     37.86                  21         7099          1106.0   \n",
       "2    -122.24     37.85                  52         1467           190.0   \n",
       "3    -122.25     37.85                  52         1274           235.0   \n",
       "4    -122.25     37.85                  52         1627           280.0   \n",
       "\n",
       "   population  households  median_income ocean_proximity  median_house_value  \n",
       "0         322         126         8.3252        NEAR BAY              452600  \n",
       "1        2401        1138         8.3014        NEAR BAY              358500  \n",
       "2         496         177         7.2574        NEAR BAY              352100  \n",
       "3         558         219         5.6431        NEAR BAY              341300  \n",
       "4         565         259         3.8462        NEAR BAY              342200  "
      ]
     },
     "execution_count": 36,
     "metadata": {},
     "output_type": "execute_result"
    }
   ],
   "source": [
    "#Print first few rows of this data.\n",
    "dfhousing.head()"
   ]
  },
  {
   "cell_type": "code",
   "execution_count": 37,
   "metadata": {},
   "outputs": [
    {
     "data": {
      "text/plain": [
       "longitude             float64\n",
       "latitude              float64\n",
       "housing_median_age      int64\n",
       "total_rooms             int64\n",
       "total_bedrooms        float64\n",
       "population              int64\n",
       "households              int64\n",
       "median_income         float64\n",
       "ocean_proximity        object\n",
       "median_house_value      int64\n",
       "dtype: object"
      ]
     },
     "execution_count": 37,
     "metadata": {},
     "output_type": "execute_result"
    }
   ],
   "source": [
    "dfhousing.dtypes"
   ]
  },
  {
   "cell_type": "markdown",
   "metadata": {},
   "source": [
    "The median house values are continuous and hence it is a regression problem\n",
    "One of the column is a categorical feature (ocean_proximity)"
   ]
  },
  {
   "cell_type": "code",
   "execution_count": 38,
   "metadata": {},
   "outputs": [],
   "source": [
    "# Extract input (X) and output (Y) data from the dataset.\n",
    "#Separate features and labels\n",
    "features = dfhousing.iloc[:,:-1].values\n",
    "label = dfhousing.iloc[:,-1].values.reshape(-1,1)"
   ]
  },
  {
   "cell_type": "code",
   "execution_count": 39,
   "metadata": {},
   "outputs": [
    {
     "data": {
      "text/plain": [
       "array([[-122.23, 37.88, 41, ..., 126, 8.3252, 'NEAR BAY'],\n",
       "       [-122.22, 37.86, 21, ..., 1138, 8.3014, 'NEAR BAY'],\n",
       "       [-122.24, 37.85, 52, ..., 177, 7.2574, 'NEAR BAY'],\n",
       "       ...,\n",
       "       [-121.22, 39.43, 17, ..., 433, 1.7, 'INLAND'],\n",
       "       [-121.32, 39.43, 18, ..., 349, 1.8672, 'INLAND'],\n",
       "       [-121.24, 39.37, 16, ..., 530, 2.3886, 'INLAND']], dtype=object)"
      ]
     },
     "execution_count": 39,
     "metadata": {},
     "output_type": "execute_result"
    }
   ],
   "source": [
    "features"
   ]
  },
  {
   "cell_type": "code",
   "execution_count": 7,
   "metadata": {},
   "outputs": [
    {
     "data": {
      "text/plain": [
       "array([[452600],\n",
       "       [358500],\n",
       "       [352100],\n",
       "       ...,\n",
       "       [ 92300],\n",
       "       [ 84700],\n",
       "       [ 89400]], dtype=int64)"
      ]
     },
     "execution_count": 7,
     "metadata": {},
     "output_type": "execute_result"
    }
   ],
   "source": [
    "label"
   ]
  },
  {
   "cell_type": "markdown",
   "metadata": {},
   "source": [
    "2. Handle missing values :\n",
    "\n",
    "Fill the missing values with the mean of the respective column."
   ]
  },
  {
   "cell_type": "code",
   "execution_count": 8,
   "metadata": {},
   "outputs": [
    {
     "data": {
      "text/plain": [
       "longitude               0\n",
       "latitude                0\n",
       "housing_median_age      0\n",
       "total_rooms             0\n",
       "total_bedrooms        207\n",
       "population              0\n",
       "households              0\n",
       "median_income           0\n",
       "ocean_proximity         0\n",
       "median_house_value      0\n",
       "dtype: int64"
      ]
     },
     "execution_count": 8,
     "metadata": {},
     "output_type": "execute_result"
    }
   ],
   "source": [
    "#check wheather there are any missing values or null\n",
    "dfhousing.isnull().sum()"
   ]
  },
  {
   "cell_type": "code",
   "execution_count": 9,
   "metadata": {},
   "outputs": [
    {
     "name": "stdout",
     "output_type": "stream",
     "text": [
      "count    20433.000000\n",
      "mean       537.870553\n",
      "std        421.385070\n",
      "min          1.000000\n",
      "25%        296.000000\n",
      "50%        435.000000\n",
      "75%        647.000000\n",
      "max       6445.000000\n",
      "Name: total_bedrooms, dtype: float64\n"
     ]
    }
   ],
   "source": [
    "#statistic of total_bedrooms column\n",
    "print(dfhousing[\"total_bedrooms\"].describe())"
   ]
  },
  {
   "cell_type": "code",
   "execution_count": 10,
   "metadata": {},
   "outputs": [
    {
     "name": "stdout",
     "output_type": "stream",
     "text": [
      "   total_bedrooms\n",
      "0           129.0\n",
      "1          1106.0\n",
      "2           190.0\n",
      "3           235.0\n",
      "4           280.0\n"
     ]
    }
   ],
   "source": [
    "print(dfhousing.iloc[:,4:5].head())"
   ]
  },
  {
   "cell_type": "code",
   "execution_count": 11,
   "metadata": {},
   "outputs": [],
   "source": [
    "#Fill the missing values with the mean of the respective column.\n",
    "# Performing Imputation with strategy=mean\n",
    "from sklearn.preprocessing import Imputer"
   ]
  },
  {
   "cell_type": "code",
   "execution_count": 12,
   "metadata": {},
   "outputs": [
    {
     "name": "stderr",
     "output_type": "stream",
     "text": [
      "C:\\ProgramData\\Anaconda3\\lib\\site-packages\\sklearn\\utils\\deprecation.py:58: DeprecationWarning: Class Imputer is deprecated; Imputer was deprecated in version 0.20 and will be removed in 0.22. Import impute.SimpleImputer from sklearn instead.\n",
      "  warnings.warn(msg, category=DeprecationWarning)\n"
     ]
    }
   ],
   "source": [
    "imputerNaN = Imputer(missing_values=\"NaN\",strategy=\"mean\",axis=0)\n",
    "\n",
    "imputerNaN.fit(dfhousing.iloc[:,4:5])\n",
    "dfhousing.iloc[:,4:5] = imputerNaN.transform(dfhousing.iloc[:,4:5])"
   ]
  },
  {
   "cell_type": "code",
   "execution_count": 13,
   "metadata": {},
   "outputs": [
    {
     "data": {
      "text/plain": [
       "longitude             0\n",
       "latitude              0\n",
       "housing_median_age    0\n",
       "total_rooms           0\n",
       "total_bedrooms        0\n",
       "population            0\n",
       "households            0\n",
       "median_income         0\n",
       "ocean_proximity       0\n",
       "median_house_value    0\n",
       "dtype: int64"
      ]
     },
     "execution_count": 13,
     "metadata": {},
     "output_type": "execute_result"
    }
   ],
   "source": [
    "# Again check wheather there are any missing values or null\n",
    "dfhousing.isnull().sum()"
   ]
  },
  {
   "cell_type": "markdown",
   "metadata": {},
   "source": [
    "3. Encode categorical data :\n",
    "\n",
    "Convert categorical column in the dataset to numerical data."
   ]
  },
  {
   "cell_type": "code",
   "execution_count": 14,
   "metadata": {},
   "outputs": [],
   "source": [
    "from sklearn.preprocessing import LabelEncoder"
   ]
  },
  {
   "cell_type": "code",
   "execution_count": 15,
   "metadata": {},
   "outputs": [
    {
     "data": {
      "text/html": [
       "<div>\n",
       "<style scoped>\n",
       "    .dataframe tbody tr th:only-of-type {\n",
       "        vertical-align: middle;\n",
       "    }\n",
       "\n",
       "    .dataframe tbody tr th {\n",
       "        vertical-align: top;\n",
       "    }\n",
       "\n",
       "    .dataframe thead th {\n",
       "        text-align: right;\n",
       "    }\n",
       "</style>\n",
       "<table border=\"1\" class=\"dataframe\">\n",
       "  <thead>\n",
       "    <tr style=\"text-align: right;\">\n",
       "      <th></th>\n",
       "      <th>longitude</th>\n",
       "      <th>latitude</th>\n",
       "      <th>housing_median_age</th>\n",
       "      <th>total_rooms</th>\n",
       "      <th>total_bedrooms</th>\n",
       "      <th>population</th>\n",
       "      <th>households</th>\n",
       "      <th>median_income</th>\n",
       "      <th>ocean_proximity</th>\n",
       "      <th>median_house_value</th>\n",
       "    </tr>\n",
       "  </thead>\n",
       "  <tbody>\n",
       "    <tr>\n",
       "      <th>count</th>\n",
       "      <td>20640.000000</td>\n",
       "      <td>20640.000000</td>\n",
       "      <td>20640.000000</td>\n",
       "      <td>20640.000000</td>\n",
       "      <td>20640.000000</td>\n",
       "      <td>20640.000000</td>\n",
       "      <td>20640.000000</td>\n",
       "      <td>20640.000000</td>\n",
       "      <td>20640.000000</td>\n",
       "      <td>20640.000000</td>\n",
       "    </tr>\n",
       "    <tr>\n",
       "      <th>mean</th>\n",
       "      <td>-119.569704</td>\n",
       "      <td>35.631861</td>\n",
       "      <td>28.639486</td>\n",
       "      <td>2635.763081</td>\n",
       "      <td>537.870553</td>\n",
       "      <td>1425.476744</td>\n",
       "      <td>499.539680</td>\n",
       "      <td>3.870671</td>\n",
       "      <td>1.165843</td>\n",
       "      <td>206855.816909</td>\n",
       "    </tr>\n",
       "    <tr>\n",
       "      <th>std</th>\n",
       "      <td>2.003532</td>\n",
       "      <td>2.135952</td>\n",
       "      <td>12.585558</td>\n",
       "      <td>2181.615252</td>\n",
       "      <td>419.266592</td>\n",
       "      <td>1132.462122</td>\n",
       "      <td>382.329753</td>\n",
       "      <td>1.899822</td>\n",
       "      <td>1.420662</td>\n",
       "      <td>115395.615874</td>\n",
       "    </tr>\n",
       "    <tr>\n",
       "      <th>min</th>\n",
       "      <td>-124.350000</td>\n",
       "      <td>32.540000</td>\n",
       "      <td>1.000000</td>\n",
       "      <td>2.000000</td>\n",
       "      <td>1.000000</td>\n",
       "      <td>3.000000</td>\n",
       "      <td>1.000000</td>\n",
       "      <td>0.499900</td>\n",
       "      <td>0.000000</td>\n",
       "      <td>14999.000000</td>\n",
       "    </tr>\n",
       "    <tr>\n",
       "      <th>25%</th>\n",
       "      <td>-121.800000</td>\n",
       "      <td>33.930000</td>\n",
       "      <td>18.000000</td>\n",
       "      <td>1447.750000</td>\n",
       "      <td>297.000000</td>\n",
       "      <td>787.000000</td>\n",
       "      <td>280.000000</td>\n",
       "      <td>2.563400</td>\n",
       "      <td>0.000000</td>\n",
       "      <td>119600.000000</td>\n",
       "    </tr>\n",
       "    <tr>\n",
       "      <th>50%</th>\n",
       "      <td>-118.490000</td>\n",
       "      <td>34.260000</td>\n",
       "      <td>29.000000</td>\n",
       "      <td>2127.000000</td>\n",
       "      <td>438.000000</td>\n",
       "      <td>1166.000000</td>\n",
       "      <td>409.000000</td>\n",
       "      <td>3.534800</td>\n",
       "      <td>1.000000</td>\n",
       "      <td>179700.000000</td>\n",
       "    </tr>\n",
       "    <tr>\n",
       "      <th>75%</th>\n",
       "      <td>-118.010000</td>\n",
       "      <td>37.710000</td>\n",
       "      <td>37.000000</td>\n",
       "      <td>3148.000000</td>\n",
       "      <td>643.250000</td>\n",
       "      <td>1725.000000</td>\n",
       "      <td>605.000000</td>\n",
       "      <td>4.743250</td>\n",
       "      <td>1.000000</td>\n",
       "      <td>264725.000000</td>\n",
       "    </tr>\n",
       "    <tr>\n",
       "      <th>max</th>\n",
       "      <td>-114.310000</td>\n",
       "      <td>41.950000</td>\n",
       "      <td>52.000000</td>\n",
       "      <td>39320.000000</td>\n",
       "      <td>6445.000000</td>\n",
       "      <td>35682.000000</td>\n",
       "      <td>6082.000000</td>\n",
       "      <td>15.000100</td>\n",
       "      <td>4.000000</td>\n",
       "      <td>500001.000000</td>\n",
       "    </tr>\n",
       "  </tbody>\n",
       "</table>\n",
       "</div>"
      ],
      "text/plain": [
       "          longitude      latitude  housing_median_age   total_rooms  \\\n",
       "count  20640.000000  20640.000000        20640.000000  20640.000000   \n",
       "mean    -119.569704     35.631861           28.639486   2635.763081   \n",
       "std        2.003532      2.135952           12.585558   2181.615252   \n",
       "min     -124.350000     32.540000            1.000000      2.000000   \n",
       "25%     -121.800000     33.930000           18.000000   1447.750000   \n",
       "50%     -118.490000     34.260000           29.000000   2127.000000   \n",
       "75%     -118.010000     37.710000           37.000000   3148.000000   \n",
       "max     -114.310000     41.950000           52.000000  39320.000000   \n",
       "\n",
       "       total_bedrooms    population    households  median_income  \\\n",
       "count    20640.000000  20640.000000  20640.000000   20640.000000   \n",
       "mean       537.870553   1425.476744    499.539680       3.870671   \n",
       "std        419.266592   1132.462122    382.329753       1.899822   \n",
       "min          1.000000      3.000000      1.000000       0.499900   \n",
       "25%        297.000000    787.000000    280.000000       2.563400   \n",
       "50%        438.000000   1166.000000    409.000000       3.534800   \n",
       "75%        643.250000   1725.000000    605.000000       4.743250   \n",
       "max       6445.000000  35682.000000   6082.000000      15.000100   \n",
       "\n",
       "       ocean_proximity  median_house_value  \n",
       "count     20640.000000        20640.000000  \n",
       "mean          1.165843       206855.816909  \n",
       "std           1.420662       115395.615874  \n",
       "min           0.000000        14999.000000  \n",
       "25%           0.000000       119600.000000  \n",
       "50%           1.000000       179700.000000  \n",
       "75%           1.000000       264725.000000  \n",
       "max           4.000000       500001.000000  "
      ]
     },
     "execution_count": 15,
     "metadata": {},
     "output_type": "execute_result"
    }
   ],
   "source": [
    "#Convert categorical column in the dataset to numerical data.\n",
    "#print(dfhousing[\"ocean_proximity\"].value_counts())\n",
    "dfhousing[\"ocean_proximity\"] = LabelEncoder().fit_transform(dfhousing[\"ocean_proximity\"])\n",
    "dfhousing[\"ocean_proximity\"].value_counts()\n",
    "dfhousing.describe()"
   ]
  },
  {
   "cell_type": "code",
   "execution_count": 16,
   "metadata": {},
   "outputs": [],
   "source": [
    "# Again Separate features and labels\n",
    "features = dfhousing.iloc[:,:-1].values\n",
    "label = dfhousing.iloc[:,-1].values.reshape(-1,1)"
   ]
  },
  {
   "cell_type": "code",
   "execution_count": 17,
   "metadata": {},
   "outputs": [
    {
     "data": {
      "text/plain": [
       "array([[-1.2223e+02,  3.7880e+01,  4.1000e+01, ...,  1.2600e+02,\n",
       "         8.3252e+00,  3.0000e+00],\n",
       "       [-1.2222e+02,  3.7860e+01,  2.1000e+01, ...,  1.1380e+03,\n",
       "         8.3014e+00,  3.0000e+00],\n",
       "       [-1.2224e+02,  3.7850e+01,  5.2000e+01, ...,  1.7700e+02,\n",
       "         7.2574e+00,  3.0000e+00],\n",
       "       ...,\n",
       "       [-1.2122e+02,  3.9430e+01,  1.7000e+01, ...,  4.3300e+02,\n",
       "         1.7000e+00,  1.0000e+00],\n",
       "       [-1.2132e+02,  3.9430e+01,  1.8000e+01, ...,  3.4900e+02,\n",
       "         1.8672e+00,  1.0000e+00],\n",
       "       [-1.2124e+02,  3.9370e+01,  1.6000e+01, ...,  5.3000e+02,\n",
       "         2.3886e+00,  1.0000e+00]])"
      ]
     },
     "execution_count": 17,
     "metadata": {},
     "output_type": "execute_result"
    }
   ],
   "source": [
    "features"
   ]
  },
  {
   "cell_type": "code",
   "execution_count": 18,
   "metadata": {},
   "outputs": [
    {
     "data": {
      "text/plain": [
       "array([[452600],\n",
       "       [358500],\n",
       "       [352100],\n",
       "       ...,\n",
       "       [ 92300],\n",
       "       [ 84700],\n",
       "       [ 89400]], dtype=int64)"
      ]
     },
     "execution_count": 18,
     "metadata": {},
     "output_type": "execute_result"
    }
   ],
   "source": [
    "label"
   ]
  },
  {
   "cell_type": "code",
   "execution_count": 19,
   "metadata": {},
   "outputs": [],
   "source": [
    "X,y=features,label"
   ]
  },
  {
   "cell_type": "markdown",
   "metadata": {},
   "source": [
    "4. Split the dataset : \n",
    "\n",
    "Split the data into 80% training dataset and 20% test dataset."
   ]
  },
  {
   "cell_type": "code",
   "execution_count": 20,
   "metadata": {},
   "outputs": [],
   "source": [
    "#Split the data into 80% training dataset and 20% test dataset.\n",
    "from sklearn.model_selection import train_test_split \n",
    "X_train,X_test,y_train,y_test = train_test_split(X,y,test_size=0.2,random_state=42)"
   ]
  },
  {
   "cell_type": "code",
   "execution_count": 21,
   "metadata": {},
   "outputs": [
    {
     "name": "stdout",
     "output_type": "stream",
     "text": [
      "X_train shape (16512, 9) and size 148608\n",
      "X_test shape (4128, 9) and size 37152\n",
      "y_train shape (16512, 1) and size 16512\n",
      "y_test shape (4128, 1) and size 4128\n"
     ]
    }
   ],
   "source": [
    "print(\"X_train shape {} and size {}\".format(X_train.shape,X_train.size))\n",
    "print(\"X_test shape {} and size {}\".format(X_test.shape,X_test.size))\n",
    "print(\"y_train shape {} and size {}\".format(y_train.shape,y_train.size))\n",
    "print(\"y_test shape {} and size {}\".format(y_test.shape,y_test.size))"
   ]
  },
  {
   "cell_type": "markdown",
   "metadata": {},
   "source": [
    "5. Standardize data :\n",
    "\n",
    "Standardize training and test datasets."
   ]
  },
  {
   "cell_type": "code",
   "execution_count": 22,
   "metadata": {},
   "outputs": [
    {
     "name": "stdout",
     "output_type": "stream",
     "text": [
      "[[ 1.27258656 -1.3728112   0.34849025  0.22256942  0.21122752  0.76827628\n",
      "   0.32290591 -0.326196    2.00593172]\n",
      " [ 0.70916212 -0.87669601  1.61811813  0.34029326  0.59309419 -0.09890135\n",
      "   0.6720272  -0.03584338  2.00593172]\n",
      " [-0.44760309 -0.46014647 -1.95271028 -0.34259695 -0.49522582 -0.44981806\n",
      "  -0.43046109  0.14470145  2.00593172]\n",
      " [ 1.23269811 -1.38217186  0.58654547 -0.56148971 -0.40930582 -0.00743434\n",
      "  -0.38058662 -1.01786438  2.00593172]\n",
      " [-0.10855122  0.5320839   1.14200767 -0.11956547 -0.25655915 -0.48587717\n",
      "  -0.31496232 -0.17148831 -0.1124266 ]]\n",
      "test data\n",
      "[[ 2.85347282e-01  1.95100000e-01 -2.86323693e-01 -5.22861572e-01\n",
      "  -1.49476515e-03 -3.03010896e-02 -3.70086730e-01 -1.15508475e+00\n",
      "  -1.12426599e-01]\n",
      " [ 6.09747178e-02 -2.35490539e-01  1.10435019e-01  1.38415277e-01\n",
      "  -1.49476515e-03  1.21850767e-01  2.20531996e-01 -7.08659050e-01\n",
      "  -1.12426599e-01]\n",
      " [-1.42487026e+00  1.00947776e+00  1.85617335e+00  5.46309967e-01\n",
      "  -1.49476515e-03 -1.02419310e-01  1.21539643e+00 -2.10401549e-01\n",
      "   1.29981228e+00]\n",
      " [ 4.29942934e-01 -6.37999085e-01 -9.21137632e-01  1.88080019e-01\n",
      "  -1.49476515e-03  2.44979437e-01 -1.30905223e-02  9.75113112e-01\n",
      "  -8.18546039e-01]\n",
      " [-1.17058135e+00  4.57198588e-01  4.27841989e-01 -1.33821090e-01\n",
      "  -1.49476515e-03 -3.19653464e-01 -1.88963654e-01 -8.17935573e-02\n",
      "   2.00593172e+00]]\n"
     ]
    }
   ],
   "source": [
    "#Standardize training and test datasets.\n",
    "from sklearn.preprocessing import StandardScaler\n",
    "independent_scaler = StandardScaler()\n",
    "X_train = independent_scaler.fit_transform(X_train)\n",
    "X_test = independent_scaler.transform(X_test)\n",
    "print(X_train[0:5,:])\n",
    "print(\"test data\")\n",
    "print(X_test[0:5,:])"
   ]
  },
  {
   "cell_type": "markdown",
   "metadata": {},
   "source": [
    "6. Perform Linear Regression : \n",
    "\n",
    "Perform Linear Regression on training data.\n",
    "\n",
    "Predict output for test dataset using the fitted model.\n",
    "\n",
    "Print root mean squared error (RMSE) from Linear Regression."
   ]
  },
  {
   "cell_type": "code",
   "execution_count": 23,
   "metadata": {},
   "outputs": [
    {
     "data": {
      "text/plain": [
       "LinearRegression(copy_X=True, fit_intercept=True, n_jobs=None,\n",
       "         normalize=False)"
      ]
     },
     "execution_count": 23,
     "metadata": {},
     "output_type": "execute_result"
    }
   ],
   "source": [
    "#Perform Linear Regression on training data.\n",
    "from sklearn.linear_model import LinearRegression\n",
    "\n",
    "linearRegModel = LinearRegression()\n",
    "\n",
    "linearRegModel.fit(X_train,y_train)\n"
   ]
  },
  {
   "cell_type": "code",
   "execution_count": 24,
   "metadata": {},
   "outputs": [
    {
     "data": {
      "text/plain": [
       "array([[ 75616.18733782],\n",
       "       [166419.13655163],\n",
       "       [264751.07303087],\n",
       "       ...,\n",
       "       [439690.1127737 ],\n",
       "       [130408.05181885],\n",
       "       [175513.56755484]])"
      ]
     },
     "execution_count": 24,
     "metadata": {},
     "output_type": "execute_result"
    }
   ],
   "source": [
    "#Predict output for test dataset using the fitted model\n",
    "y_pred = linearRegModel.predict(X_test)\n",
    "y_pred"
   ]
  },
  {
   "cell_type": "code",
   "execution_count": 25,
   "metadata": {},
   "outputs": [
    {
     "name": "stdout",
     "output_type": "stream",
     "text": [
      "Root Mean Squared Error : 71098.69982050032\n"
     ]
    }
   ],
   "source": [
    "#Print root mean squared error (RMSE) from Linear Regression.\n",
    "\n",
    "#print(np.sqrt(metrics.mean_squared_error(y_test,y_pred)))\n",
    "#print(np.sqrt(metrics.mean_squared_error(y_train,linearRegModel.predict(X_train))))\n",
    "\n",
    "print(\"Root Mean Squared Error : {}\".format(np.sqrt(metrics.mean_squared_error(y_test,y_pred))))\n"
   ]
  },
  {
   "cell_type": "markdown",
   "metadata": {},
   "source": [
    "7. Perform Decision Tree Regression :\n",
    "\n",
    "Perform Decision Tree Regression on training data.\n",
    "\n",
    "Predict output for test dataset using the fitted model.\n",
    "\n",
    "Print root mean squared error from Decision Tree Regression."
   ]
  },
  {
   "cell_type": "code",
   "execution_count": 26,
   "metadata": {},
   "outputs": [
    {
     "data": {
      "text/plain": [
       "DecisionTreeRegressor(criterion='mse', max_depth=5, max_features=None,\n",
       "           max_leaf_nodes=None, min_impurity_decrease=0.0,\n",
       "           min_impurity_split=None, min_samples_leaf=1,\n",
       "           min_samples_split=2, min_weight_fraction_leaf=0.0,\n",
       "           presort=False, random_state=None, splitter='best')"
      ]
     },
     "execution_count": 26,
     "metadata": {},
     "output_type": "execute_result"
    }
   ],
   "source": [
    "#Perform Decision Tree Regression on training data.\n",
    "from sklearn.tree import DecisionTreeRegressor\n",
    "dtReg = DecisionTreeRegressor(max_depth=5)\n",
    "dtReg.fit(X_train,y_train)"
   ]
  },
  {
   "cell_type": "code",
   "execution_count": 27,
   "metadata": {},
   "outputs": [
    {
     "data": {
      "text/plain": [
       "array([ 79530.1760355 , 104068.70697013, 367761.87222222, ...,\n",
       "       488519.91384615, 104068.70697013, 254743.        ])"
      ]
     },
     "execution_count": 27,
     "metadata": {},
     "output_type": "execute_result"
    }
   ],
   "source": [
    "#Predict output for test dataset using the fitted model\n",
    "dtReg_y_pred = dtReg.predict(X_test)\n",
    "dtReg_y_pred"
   ]
  },
  {
   "cell_type": "code",
   "execution_count": 28,
   "metadata": {},
   "outputs": [
    {
     "name": "stdout",
     "output_type": "stream",
     "text": [
      "Root Mean Squared Error is 70879.2196382473\n"
     ]
    }
   ],
   "source": [
    "#Print root mean squared error from Decision Tree Regression.\n",
    "\n",
    "print(\"Root Mean Squared Error is {}\".format(np.sqrt(metrics.mean_squared_error(y_test,dtReg_y_pred))))"
   ]
  },
  {
   "cell_type": "markdown",
   "metadata": {},
   "source": [
    "8. Perform Random Forest Regression :\n",
    "\n",
    "Perform Random Forest Regression on training data.\n",
    "\n",
    "Predict output for test dataset using the fitted model.\n",
    "\n",
    "Print RMSE (root mean squared error) from Random Forest Regression."
   ]
  },
  {
   "cell_type": "code",
   "execution_count": 29,
   "metadata": {},
   "outputs": [
    {
     "name": "stderr",
     "output_type": "stream",
     "text": [
      "C:\\ProgramData\\Anaconda3\\lib\\site-packages\\ipykernel_launcher.py:4: DataConversionWarning: A column-vector y was passed when a 1d array was expected. Please change the shape of y to (n_samples,), for example using ravel().\n",
      "  after removing the cwd from sys.path.\n"
     ]
    },
    {
     "data": {
      "text/plain": [
       "RandomForestRegressor(bootstrap=True, criterion='mse', max_depth=None,\n",
       "           max_features='auto', max_leaf_nodes=None,\n",
       "           min_impurity_decrease=0.0, min_impurity_split=None,\n",
       "           min_samples_leaf=1, min_samples_split=2,\n",
       "           min_weight_fraction_leaf=0.0, n_estimators=30, n_jobs=None,\n",
       "           oob_score=False, random_state=None, verbose=0, warm_start=False)"
      ]
     },
     "execution_count": 29,
     "metadata": {},
     "output_type": "execute_result"
    }
   ],
   "source": [
    "#Perform Random Forest Regression on training data. \n",
    "from sklearn.ensemble import RandomForestRegressor\n",
    "rfReg = RandomForestRegressor(30)\n",
    "rfReg.fit(X_train,y_train)"
   ]
  },
  {
   "cell_type": "code",
   "execution_count": 30,
   "metadata": {},
   "outputs": [
    {
     "data": {
      "text/plain": [
       "array([ 53146.66666667,  70380.        , 466150.46666667, ...,\n",
       "       496350.96666667,  70903.33333333, 162443.33333333])"
      ]
     },
     "execution_count": 30,
     "metadata": {},
     "output_type": "execute_result"
    }
   ],
   "source": [
    "#Predict output for test dataset using the fitted model.\n",
    "rfReg_y_pred = rfReg.predict(X_test)\n",
    "rfReg_y_pred"
   ]
  },
  {
   "cell_type": "code",
   "execution_count": 31,
   "metadata": {},
   "outputs": [
    {
     "name": "stdout",
     "output_type": "stream",
     "text": [
      "Root Mean Squared Error is 50658.85766589206\n"
     ]
    }
   ],
   "source": [
    "# Print RMSE (root mean squared error) from Random Forest Regression.\n",
    "print(\"Root Mean Squared Error is {}\".format(np.sqrt(metrics.mean_squared_error(y_test,rfReg_y_pred))))"
   ]
  },
  {
   "cell_type": "markdown",
   "metadata": {},
   "source": [
    "9. Bonus exercise: Perform Linear Regression with one independent variable :\n",
    "\n",
    "Extract just the median_income column from the independent variables (from X_train and X_test).\n",
    "\n",
    "Perform Linear Regression to predict housing values based on median_income.\n",
    "\n",
    "Predict output for test dataset using the fitted model.\n",
    "\n",
    "Plot the fitted model for training data as well as for test data to check if the fitted model satisfies the test data."
   ]
  },
  {
   "cell_type": "code",
   "execution_count": 46,
   "metadata": {},
   "outputs": [],
   "source": [
    "#Extract just the median_income column from the independent variables (from X_train and X_test). \n",
    "\n",
    "X_test_mi = X_test[:,[7]]\n",
    "\n",
    "X_train_mi=X_train[:,[7]]"
   ]
  },
  {
   "cell_type": "code",
   "execution_count": 48,
   "metadata": {},
   "outputs": [
    {
     "data": {
      "text/plain": [
       "LinearRegression(copy_X=True, fit_intercept=True, n_jobs=None,\n",
       "         normalize=False)"
      ]
     },
     "execution_count": 48,
     "metadata": {},
     "output_type": "execute_result"
    }
   ],
   "source": [
    "#Perform Linear Regression to predict housing values based on median_income.\n",
    "linReg_mi = LinearRegression()\n",
    "linReg_mi.fit(X_train_mi,y_train)"
   ]
  },
  {
   "cell_type": "code",
   "execution_count": 49,
   "metadata": {},
   "outputs": [],
   "source": [
    "#Predict output for test dataset using the fitted model.\n",
    "y_pred_mi = linReg_mi.predict(X_test_mi)"
   ]
  },
  {
   "cell_type": "code",
   "execution_count": 50,
   "metadata": {},
   "outputs": [
    {
     "data": {
      "text/plain": [
       "array([[114958.91676996],\n",
       "       [150606.88213964],\n",
       "       [190393.71844449],\n",
       "       ...,\n",
       "       [431500.77230409],\n",
       "       [161245.49973085],\n",
       "       [193412.95560084]])"
      ]
     },
     "execution_count": 50,
     "metadata": {},
     "output_type": "execute_result"
    }
   ],
   "source": [
    "y_pred_mi"
   ]
  },
  {
   "cell_type": "code",
   "execution_count": 54,
   "metadata": {},
   "outputs": [
    {
     "name": "stderr",
     "output_type": "stream",
     "text": [
      "No handles with labels found to put in legend.\n"
     ]
    },
    {
     "data": {
      "image/png": "[encoded data removed]",
      "text/plain": [
       "<Figure size 1440x1080 with 2 Axes>"
      ]
     },
     "metadata": {},
     "output_type": "display_data"
    }
   ],
   "source": [
    "# Plot the fitted model for training data as well as for test data to check if the fitted model satisfies the test data.\n",
    "plt.style.use(\"ggplot\")\n",
    "plt.figure(figsize=(20,15))\n",
    "\n",
    "plt.subplot(1,2,1)\n",
    "plt.title(\"Training Data\")\n",
    "plt.scatter(X_train_mi,y_train,color=\"red\")\n",
    "plt.plot(X_train_mi,linReg_mi.predict(X_train_mi),color=\"blue\")\n",
    "plt.xlabel(\"Median Income\")\n",
    "plt.ylabel(\"Median House Value\")\n",
    "plt.legend()\n",
    "\n",
    "plt.subplot(1,2,2)\n",
    "plt.title(\"Testing Data\")\n",
    "plt.scatter(X_test_mi,y_test,color=\"red\")\n",
    "plt.plot(X_test_mi,y_pred_mi,color=\"blue\")\n",
    "plt.xlabel(\"Median Income\")\n",
    "plt.ylabel(\"Median House Value\")\n",
    "\n",
    "plt.show()\n",
    "\n",
    "\n",
    "\n"
   ]
  },
  {
   "cell_type": "markdown",
   "metadata": {},
   "source": [
    "Observation : The independent varible is scattered so that we are getting less accurate results."
   ]
  },
  {
   "cell_type": "code",
   "execution_count": null,
   "metadata": {},
   "outputs": [],
   "source": []
  }
 ],
 "metadata": {
  "kernelspec": {
   "display_name": "Python 3",
   "language": "python",
   "name": "python3"
  },
  "language_info": {
   "codemirror_mode": {
    "name": "ipython",
    "version": 3
   },
   "file_extension": ".py",
   "mimetype": "text/x-python",
   "name": "python",
   "nbconvert_exporter": "python",
   "pygments_lexer": "ipython3",
   "version": "3.7.4"
  }
 },
 "nbformat": 4,
 "nbformat_minor": 2
}
